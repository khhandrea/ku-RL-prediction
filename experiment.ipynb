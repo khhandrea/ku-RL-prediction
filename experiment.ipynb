{
 "cells": [
  {
   "cell_type": "markdown",
   "id": "36aa3db4-b71c-4f58-ad21-0cfd13c795e7",
   "metadata": {},
   "source": [
    "- 각 실험: 돌리고 data 저장 (main이면 data 저장 안 하고 바로 출력)"
   ]
  },
  {
   "cell_type": "code",
   "execution_count": null,
   "id": "dbf9af33-b61b-42b6-8864-54cb755b06c8",
   "metadata": {},
   "outputs": [],
   "source": [
    "# DP experiment (until convergence)\n",
    "# MC experiment with Ne\n",
    "# N-step TD experiment with Ne\n",
    "\n",
    "# print V(s) for all\n",
    "# print errors and their mean, variance\n",
    "\n",
    "# plot errors with mean average for 100 steps with data\n",
    "# plot errors with mean average for 1000 steps with data\n",
    "# plot errors with mean average for 10000 steps with data\n",
    "# plot errors with mean average for 100000 steps with data\n",
    "\n",
    "# data: 첫줄엔 최종 V값, 두번째 줄엔 step별 loss (띄어쓰기로 구분)\n",
    "# (experiment)-(step).txt\n",
    "# experiment: DP, MC, TD 1step, TD 3step\n",
    "# step: 100, 1000, 10000, 100000\n",
    "# (경우의수 총 16개)"
   ]
  }
 ],
 "metadata": {
  "kernelspec": {
   "display_name": "Python 3 (ipykernel)",
   "language": "python",
   "name": "python3"
  },
  "language_info": {
   "codemirror_mode": {
    "name": "ipython",
    "version": 3
   },
   "file_extension": ".py",
   "mimetype": "text/x-python",
   "name": "python",
   "nbconvert_exporter": "python",
   "pygments_lexer": "ipython3",
   "version": "3.9.16"
  }
 },
 "nbformat": 4,
 "nbformat_minor": 5
}
