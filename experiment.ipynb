{
 "cells": [
  {
   "cell_type": "markdown",
   "id": "36aa3db4-b71c-4f58-ad21-0cfd13c795e7",
   "metadata": {},
   "source": [
    "- 각 실험: 돌리고 data 저장 (main이면 data 저장 안 하고 바로 출력)"
   ]
  },
  {
   "cell_type": "code",
   "execution_count": null,
   "id": "dbf9af33-b61b-42b6-8864-54cb755b06c8",
   "metadata": {},
   "outputs": [],
   "source": [
    "from implements.DP import \n",
    "\n",
    "# (Trainer)\n",
    "# DP experiment (until convergence)\n",
    "# MC experiment with Ne\n",
    "# N-step TD experiment with Ne\n",
    "\n",
    "# (Reader)\n",
    "\n",
    "# (Plotter)"
   ]
  },
  {
   "cell_type": "code",
   "execution_count": null,
   "id": "4f2a3fd9-3325-4a97-87d9-a51ca8f92f81",
   "metadata": {},
   "outputs": [],
   "source": [
    "# plot grid V(s) for 100 steps with data\n",
    "# plot errors with mean average for 100 steps with data"
   ]
  },
  {
   "cell_type": "code",
   "execution_count": null,
   "id": "504d8d3f-d541-4cf9-801a-8af72af05629",
   "metadata": {},
   "outputs": [],
   "source": [
    "# plot grid V(s) for 1000 steps with data\n",
    "# plot errors with mean average for 1000 steps with data"
   ]
  },
  {
   "cell_type": "code",
   "execution_count": null,
   "id": "559e9a8b-11c0-422a-a005-7615b91fbef7",
   "metadata": {},
   "outputs": [],
   "source": [
    "# plot grid V(s) for 10000 steps with data\n",
    "# plot errors with mean average for 10000 steps with data"
   ]
  },
  {
   "cell_type": "code",
   "execution_count": null,
   "id": "d228ffe8-2867-4694-ab17-35a1d48e88c5",
   "metadata": {},
   "outputs": [],
   "source": [
    "# plot grid V(s) for 100000 steps with data\n",
    "# plot errors with mean average for 100000 steps with data"
   ]
  }
 ],
 "metadata": {
  "kernelspec": {
   "display_name": "Python 3 (ipykernel)",
   "language": "python",
   "name": "python3"
  },
  "language_info": {
   "codemirror_mode": {
    "name": "ipython",
    "version": 3
   },
   "file_extension": ".py",
   "mimetype": "text/x-python",
   "name": "python",
   "nbconvert_exporter": "python",
   "pygments_lexer": "ipython3",
   "version": "3.9.16"
  }
 },
 "nbformat": 4,
 "nbformat_minor": 5
}
