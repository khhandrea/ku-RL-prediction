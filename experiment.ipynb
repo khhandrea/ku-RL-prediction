{
 "cells": [
  {
   "cell_type": "markdown",
   "id": "36aa3db4-b71c-4f58-ad21-0cfd13c795e7",
   "metadata": {},
   "source": [
    "- 각 실험: 돌리고 data 저장 (main이면 data 저장 안 하고 바로 출력)"
   ]
  },
  {
   "cell_type": "code",
   "execution_count": 7,
   "id": "a0c858e5-1d6e-4236-a298-c9b707551430",
   "metadata": {},
   "outputs": [
    {
     "name": "stdout",
     "output_type": "stream",
     "text": [
      "saved to DP-0.txt\n",
      "[[-59.24 -57.25 -54.12 -51.55]\n",
      " [-57.25 -54.4  -49.56 -45.  ]\n",
      " [-54.12 -49.56 -40.74 -29.91]\n",
      " [-51.55 -45.   -29.91   0.  ]]\n"
     ]
    }
   ],
   "source": [
    "!python DP.py"
   ]
  },
  {
   "cell_type": "code",
   "execution_count": 8,
   "id": "dbf9af33-b61b-42b6-8864-54cb755b06c8",
   "metadata": {},
   "outputs": [
    {
     "name": "stdout",
     "output_type": "stream",
     "text": [
      "saved to DP-0.txt\n"
     ]
    }
   ],
   "source": [
    "from DP import train_DP\n",
    "\n",
    "train_DP()\n",
    "# MC_trainer.train()\n",
    "# TD_trainer.train()\n",
    "# TD3_trainer.train()"
   ]
  },
  {
   "cell_type": "code",
   "execution_count": 9,
   "id": "5727608c-9b3b-4e19-91ae-8108592152a2",
   "metadata": {},
   "outputs": [],
   "source": [
    "from implements.data_handler import read_result, get_gridlike"
   ]
  },
  {
   "cell_type": "code",
   "execution_count": 10,
   "id": "016af889-35fa-4b16-b484-06dadde2f292",
   "metadata": {},
   "outputs": [
    {
     "name": "stdout",
     "output_type": "stream",
     "text": [
      "[[-59.24 -57.25 -54.12 -51.55]\n",
      " [-57.25 -54.4  -49.56 -45.  ]\n",
      " [-54.12 -49.56 -40.74 -29.91]\n",
      " [-51.55 -45.   -29.91   0.  ]]\n"
     ]
    }
   ],
   "source": [
    "vs, _, _ = read_result(experiment='DP')\n",
    "print(get_gridlike(vs))"
   ]
  },
  {
   "cell_type": "code",
   "execution_count": null,
   "id": "4f2a3fd9-3325-4a97-87d9-a51ca8f92f81",
   "metadata": {},
   "outputs": [],
   "source": [
    "read_result(steps=100)"
   ]
  },
  {
   "cell_type": "code",
   "execution_count": null,
   "id": "504d8d3f-d541-4cf9-801a-8af72af05629",
   "metadata": {},
   "outputs": [],
   "source": [
    "read_result(steps=1000)"
   ]
  },
  {
   "cell_type": "code",
   "execution_count": null,
   "id": "559e9a8b-11c0-422a-a005-7615b91fbef7",
   "metadata": {},
   "outputs": [],
   "source": [
    "read_result(steps=10000)"
   ]
  },
  {
   "cell_type": "code",
   "execution_count": null,
   "id": "d228ffe8-2867-4694-ab17-35a1d48e88c5",
   "metadata": {},
   "outputs": [],
   "source": [
    "read_result(steps=100000)"
   ]
  }
 ],
 "metadata": {
  "kernelspec": {
   "display_name": "Python 3 (ipykernel)",
   "language": "python",
   "name": "python3"
  },
  "language_info": {
   "codemirror_mode": {
    "name": "ipython",
    "version": 3
   },
   "file_extension": ".py",
   "mimetype": "text/x-python",
   "name": "python",
   "nbconvert_exporter": "python",
   "pygments_lexer": "ipython3",
   "version": "3.9.16"
  }
 },
 "nbformat": 4,
 "nbformat_minor": 5
}
