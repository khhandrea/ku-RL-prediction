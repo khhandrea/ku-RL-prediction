{
 "cells": [
  {
   "cell_type": "markdown",
   "id": "36aa3db4-b71c-4f58-ad21-0cfd13c795e7",
   "metadata": {},
   "source": [
    "- 각 실험: 돌리고 data 저장 (main이면 data 저장 안 하고 바로 출력)"
   ]
  },
  {
   "cell_type": "code",
   "execution_count": 62,
   "id": "a0c858e5-1d6e-4236-a298-c9b707551430",
   "metadata": {},
   "outputs": [
    {
     "name": "stdout",
     "output_type": "stream",
     "text": [
      "-6.0 -5.0 -4.0 -3.0 \n",
      "-5.0 -4.0 -3.0 -2.0 \n",
      "-4.0 -3.0 -2.0 -1.0 \n",
      "-3.0 -2.0 -1.0 0.0 \n",
      "saved to DP-0.txt\n"
     ]
    }
   ],
   "source": [
    "!python DP.py"
   ]
  },
  {
   "cell_type": "code",
   "execution_count": 59,
   "id": "045c87f5-a8df-40ce-9283-f8075859ad47",
   "metadata": {},
   "outputs": [
    {
     "data": {
      "text/plain": [
       "'1 2 3'"
      ]
     },
     "execution_count": 59,
     "metadata": {},
     "output_type": "execute_result"
    }
   ],
   "source": [
    "' '.join(map(str, [1, 2, 3]))"
   ]
  },
  {
   "cell_type": "code",
   "execution_count": 1,
   "id": "dbf9af33-b61b-42b6-8864-54cb755b06c8",
   "metadata": {},
   "outputs": [
    {
     "name": "stdout",
     "output_type": "stream",
     "text": [
      "-6.0 -5.0 -4.0 -3.0 \n",
      "-5.0 -4.0 -3.0 -2.0 \n",
      "-4.0 -3.0 -2.0 -1.0 \n",
      "-3.0 -2.0 -1.0 0.0 \n",
      "saved to DP-0.txt\n"
     ]
    }
   ],
   "source": [
    "from DP import DPTrainer\n",
    "from MC import MCTrainer\n",
    "from TD import TDTrainer\n",
    "\n",
    "# (Trainer)\n",
    "DP_trainer = DPTrainer()\n",
    "# MC_trainer = MCTrainer()\n",
    "# TD_trainer = TDTrainer(1)\n",
    "# TD3_trainer = TDTrainer(3)\n",
    "\n",
    "DP_trainer.train()\n",
    "# MC_trainer.train()\n",
    "# TD_trainer.train()\n",
    "# TD3_trainer.train()"
   ]
  },
  {
   "cell_type": "code",
   "execution_count": 2,
   "id": "5727608c-9b3b-4e19-91ae-8108592152a2",
   "metadata": {},
   "outputs": [],
   "source": [
    "from implements.data_handler import loss_read"
   ]
  },
  {
   "cell_type": "code",
   "execution_count": 3,
   "id": "016af889-35fa-4b16-b484-06dadde2f292",
   "metadata": {},
   "outputs": [
    {
     "name": "stdout",
     "output_type": "stream",
     "text": [
      "1\n",
      "loaded to DP-0.txt\n"
     ]
    }
   ],
   "source": [
    "# Read files\n",
    "# Plot grid V(s) for DP with data\n",
    "loss_read('DP-0.txt')"
   ]
  },
  {
   "cell_type": "code",
   "execution_count": null,
   "id": "4f2a3fd9-3325-4a97-87d9-a51ca8f92f81",
   "metadata": {},
   "outputs": [],
   "source": [
    "# Read files\n",
    "# plot grid V(s) for 100 steps with data\n",
    "# plot errors with mean average for 100 steps with data"
   ]
  },
  {
   "cell_type": "code",
   "execution_count": null,
   "id": "504d8d3f-d541-4cf9-801a-8af72af05629",
   "metadata": {},
   "outputs": [],
   "source": [
    "# Read files\n",
    "# Plot grid V(s) for 1000 steps with data\n",
    "# Plot errors with mean average for 1000 steps with data"
   ]
  },
  {
   "cell_type": "code",
   "execution_count": null,
   "id": "559e9a8b-11c0-422a-a005-7615b91fbef7",
   "metadata": {},
   "outputs": [],
   "source": [
    "# Read files\n",
    "# Plot grid V(s) for 10000 steps with data\n",
    "# Plot errors with mean average for 10000 steps with data"
   ]
  },
  {
   "cell_type": "code",
   "execution_count": null,
   "id": "d228ffe8-2867-4694-ab17-35a1d48e88c5",
   "metadata": {},
   "outputs": [],
   "source": [
    "# Read files\n",
    "# Plot grid V(s) for 100000 steps with data\n",
    "# Plot errors with mean average for 100000 steps with data"
   ]
  }
 ],
 "metadata": {
  "kernelspec": {
   "display_name": "Python 3 (ipykernel)",
   "language": "python",
   "name": "python3"
  },
  "language_info": {
   "codemirror_mode": {
    "name": "ipython",
    "version": 3
   },
   "file_extension": ".py",
   "mimetype": "text/x-python",
   "name": "python",
   "nbconvert_exporter": "python",
   "pygments_lexer": "ipython3",
   "version": "3.9.16"
  }
 },
 "nbformat": 4,
 "nbformat_minor": 5
}
